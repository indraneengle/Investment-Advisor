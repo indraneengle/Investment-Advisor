{
 "cells": [
  {
   "cell_type": "code",
   "execution_count": 1,
   "id": "343ee115",
   "metadata": {},
   "outputs": [],
   "source": [
    "import gspread\n",
    "import pandas as pd\n",
    "import numpy as np"
   ]
  },
  {
   "cell_type": "code",
   "execution_count": 2,
   "id": "077f4d2c",
   "metadata": {},
   "outputs": [],
   "source": [
    "cread_file='iron-dynamics-304717-d77dd1c57cb1.json'\n",
    "gc=gspread.service_account(cread_file)"
   ]
  },
  {
   "cell_type": "code",
   "execution_count": 3,
   "id": "e0711c1e",
   "metadata": {},
   "outputs": [],
   "source": [
    "database=gc.open('Income / Expense')\n",
    "update=gc.open('Final Report')\n",
    "bse=gc.open('BSE500')"
   ]
  },
  {
   "cell_type": "code",
   "execution_count": 4,
   "id": "2f2ecc1b",
   "metadata": {},
   "outputs": [],
   "source": [
    "wks=database.worksheet('inex')\n",
    "final=update.worksheet('Sheet1')\n",
    "fi=bse.worksheet('bse500')\n",
    "fill=update.worksheet('Sheet2')"
   ]
  },
  {
   "cell_type": "code",
   "execution_count": 6,
   "id": "e321cbf7",
   "metadata": {},
   "outputs": [],
   "source": [
    "ei=pd.DataFrame(wks.get_all_values(),columns=['Date','Payment_Mode','Category','Subcategory','Note','INR','Income/Expense','Amount','Currency'])\n",
    "ei.drop(columns=['Amount','Currency'],inplace=True)\n",
    "ei.drop(index=0,inplace=True)"
   ]
  },
  {
   "cell_type": "code",
   "execution_count": 7,
   "id": "8be50890",
   "metadata": {},
   "outputs": [
    {
     "name": "stdout",
     "output_type": "stream",
     "text": [
      "<class 'pandas.core.frame.DataFrame'>\n",
      "RangeIndex: 277 entries, 1 to 277\n",
      "Data columns (total 7 columns):\n",
      " #   Column          Non-Null Count  Dtype \n",
      "---  ------          --------------  ----- \n",
      " 0   Date            277 non-null    object\n",
      " 1   Payment_Mode    277 non-null    object\n",
      " 2   Category        277 non-null    object\n",
      " 3   Subcategory     277 non-null    object\n",
      " 4   Note            277 non-null    object\n",
      " 5   INR             277 non-null    object\n",
      " 6   Income/Expense  277 non-null    object\n",
      "dtypes: object(7)\n",
      "memory usage: 15.3+ KB\n"
     ]
    }
   ],
   "source": [
    "ei.info()"
   ]
  },
  {
   "cell_type": "code",
   "execution_count": 8,
   "id": "d76bcd05",
   "metadata": {},
   "outputs": [],
   "source": [
    "#preprocessing\n",
    "ei['Date']=pd.to_datetime(ei['Date'])\n",
    "ei['INR']=pd.to_numeric(ei['INR'])"
   ]
  },
  {
   "cell_type": "code",
   "execution_count": 75,
   "id": "b095d41b",
   "metadata": {},
   "outputs": [],
   "source": [
    "#Increasing salary\n",
    "ei.loc[139,'INR']=20000"
   ]
  },
  {
   "cell_type": "code",
   "execution_count": 77,
   "id": "7b083b07",
   "metadata": {},
   "outputs": [
    {
     "data": {
      "text/plain": [
       "{'spreadsheetId': '1oWn-6TcHJichTXKQHWFuPIayQt6lhxK3NgBNYCZrgLY',\n",
       " 'updatedRange': 'Sheet1!C8',\n",
       " 'updatedRows': 1,\n",
       " 'updatedColumns': 1,\n",
       " 'updatedCells': 1}"
      ]
     },
     "execution_count": 77,
     "metadata": {},
     "output_type": "execute_result"
    }
   ],
   "source": [
    "#Updating Net Income and Net Expense\n",
    "Net_income=ei[ei['Income/Expense']=='Income']['INR'].sum()\n",
    "Net_expense=ei[ei['Income/Expense']=='Expense']['INR'].sum()\n",
    "final.update_cell(7,3,Net_income)\n",
    "final.update_cell(8,3,Net_expense)"
   ]
  },
  {
   "cell_type": "code",
   "execution_count": 78,
   "id": "436e29ba",
   "metadata": {},
   "outputs": [],
   "source": [
    "#Updating Net Expense in various categoreis\n",
    "for i in ei.Category.unique():\n",
    "    try:\n",
    "        word=i\n",
    "        cell=final.find(word)\n",
    "        a=ei[(ei['Category']==i) & (ei['Income/Expense']=='Expense')]['INR'].sum()\n",
    "        final.update_cell(cell.row,cell.col+1,a)\n",
    "    except:\n",
    "        None"
   ]
  },
  {
   "cell_type": "code",
   "execution_count": 61,
   "id": "0734fd6f",
   "metadata": {
    "scrolled": true
   },
   "outputs": [
    {
     "data": {
      "text/plain": [
       "{'spreadsheetId': '1oWn-6TcHJichTXKQHWFuPIayQt6lhxK3NgBNYCZrgLY',\n",
       " 'updatedRange': 'Sheet1!C24',\n",
       " 'updatedRows': 1,\n",
       " 'updatedColumns': 1,\n",
       " 'updatedCells': 1}"
      ]
     },
     "execution_count": 61,
     "metadata": {},
     "output_type": "execute_result"
    }
   ],
   "source": [
    "#filling Funds Available for investing\n",
    "final.update_cell(24,3,Net_income-Net_expense)    "
   ]
  },
  {
   "cell_type": "code",
   "execution_count": 11,
   "id": "fd7cc352",
   "metadata": {},
   "outputs": [],
   "source": [
    "stocks=pd.DataFrame(fi.get_all_records())"
   ]
  },
  {
   "cell_type": "code",
   "execution_count": 12,
   "id": "11a0122b",
   "metadata": {
    "scrolled": false
   },
   "outputs": [
    {
     "name": "stdout",
     "output_type": "stream",
     "text": [
      "<class 'pandas.core.frame.DataFrame'>\n",
      "RangeIndex: 501 entries, 0 to 500\n",
      "Data columns (total 42 columns):\n",
      " #   Column                    Non-Null Count  Dtype  \n",
      "---  ------                    --------------  -----  \n",
      " 0   Company                   501 non-null    object \n",
      " 1   BSE code                  501 non-null    int64  \n",
      " 2   NSE code                  501 non-null    object \n",
      " 3   ISIN                      501 non-null    object \n",
      " 4   Sector                    501 non-null    object \n",
      " 5   Industry                  501 non-null    object \n",
      " 6   Date                      501 non-null    object \n",
      " 7   Price                     501 non-null    float64\n",
      " 8   1 day change(%)           501 non-null    float64\n",
      " 9   52 Week Low               501 non-null    float64\n",
      " 10  52 Week High              501 non-null    float64\n",
      " 11  3 Year Low                501 non-null    object \n",
      " 12  3 Year High               501 non-null    object \n",
      " 13  5 Year Low                501 non-null    object \n",
      " 14  5 Year High               501 non-null    object \n",
      " 15  All Time Low              501 non-null    float64\n",
      " 16  All Time High             501 non-null    float64\n",
      " 17  Market Cap(Cr)            501 non-null    float64\n",
      " 18  Enterprise Value(Cr)      501 non-null    object \n",
      " 19  1-Week Return             501 non-null    float64\n",
      " 20  1-Month Return            501 non-null    float64\n",
      " 21  3-Month Return(%)         501 non-null    float64\n",
      " 22  1-Year Return(%)          501 non-null    object \n",
      " 23  3-Year Return             501 non-null    object \n",
      " 24  5-Year Return(%)          501 non-null    object \n",
      " 25  10-Year Return(%)         501 non-null    object \n",
      " 26  Price to Earnings         501 non-null    object \n",
      " 27  Median P/E                501 non-null    object \n",
      " 28  Price to Book             501 non-null    object \n",
      " 29  Median P/B                501 non-null    object \n",
      " 30  Earning Yield(%)          501 non-null    float64\n",
      " 31  Price earnings to growth  501 non-null    object \n",
      " 32  Dividend Yield(%)         501 non-null    float64\n",
      " 33  EV / EBITDA               501 non-null    object \n",
      " 34  Price / Sales             501 non-null    object \n",
      " 35  Price / Cash Flow         501 non-null    object \n",
      " 36  Earning Per Share         501 non-null    object \n",
      " 37  Book Value Per Share      501 non-null    object \n",
      " 38  Cash Flow Per Share       501 non-null    object \n",
      " 39  Free Cash Flow Per Share  501 non-null    object \n",
      " 40  Dividend Per Share        501 non-null    object \n",
      " 41  Delta                     501 non-null    object \n",
      "dtypes: float64(12), int64(1), object(29)\n",
      "memory usage: 164.5+ KB\n"
     ]
    }
   ],
   "source": [
    "stocks.info()"
   ]
  },
  {
   "cell_type": "code",
   "execution_count": 13,
   "id": "81982646",
   "metadata": {},
   "outputs": [],
   "source": [
    "stocks['Delta'].replace(to_replace='',value=0,inplace=True)\n",
    "stocks['Dividend Per Share'].replace(to_replace='',value=0,inplace=True)"
   ]
  },
  {
   "cell_type": "code",
   "execution_count": 114,
   "id": "c171db04",
   "metadata": {},
   "outputs": [
    {
     "data": {
      "text/plain": [
       "Index(['Company', 'BSE code', 'NSE code', 'ISIN', 'Sector', 'Industry', 'Date',\n",
       "       'Price', '1 day change(%)', '52 Week Low', '52 Week High', '3 Year Low',\n",
       "       '3 Year High', '5 Year Low', '5 Year High', 'All Time Low',\n",
       "       'All Time High', 'Market Cap(Cr)', 'Enterprise Value(Cr)',\n",
       "       '1-Week Return', '1-Month Return', '3-Month Return(%)',\n",
       "       '1-Year Return(%)', '3-Year Return', '5-Year Return(%)',\n",
       "       '10-Year Return(%)', 'Price to Earnings', 'Median P/E', 'Price to Book',\n",
       "       'Median P/B', 'Earning Yield(%)', 'Price earnings to growth',\n",
       "       'Dividend Yield(%)', 'EV / EBITDA', 'Price / Sales',\n",
       "       'Price / Cash Flow', 'Earning Per Share', 'Book Value Per Share',\n",
       "       'Cash Flow Per Share', 'Free Cash Flow Per Share', 'Dividend Per Share',\n",
       "       'Delta'],\n",
       "      dtype='object')"
      ]
     },
     "execution_count": 114,
     "metadata": {},
     "output_type": "execute_result"
    }
   ],
   "source": [
    "stocks.columns"
   ]
  },
  {
   "cell_type": "code",
   "execution_count": 117,
   "id": "b829475b",
   "metadata": {},
   "outputs": [],
   "source": [
    "stocks['Delta']=pd.to_numeric(stocks['Delta'])\n",
    "stocks['Dividend Per Share']=pd.to_numeric(stocks['Dividend Per Share'])\n",
    "stocks['10-Year Return(%)']=pd.to_numeric(stocks['10-Year Return(%)'])\n",
    "stocks['3-Year Return']=pd.to_numeric(stocks['3-Year Return'])\n",
    "stocks['Median P/E']=pd.to_numeric(stocks['Median P/E'])\n",
    "stocks['5-Year Return(%)']=pd.to_numeric(stocks['5-Year Return(%)'])\n",
    "stocks['10-Year Return(%)']=pd.to_numeric(stocks['10-Year Return(%)'])\n",
    "stocks['1-Year Return(%)']=pd.to_numeric(stocks['1-Year Return(%)'])"
   ]
  },
  {
   "cell_type": "code",
   "execution_count": 16,
   "id": "b8c5a39e",
   "metadata": {},
   "outputs": [
    {
     "data": {
      "text/plain": [
       "{'spreadsheetId': '1d-tLU4D0DA094BK1CIuwMWzny5U5SMI7Xjq052ESujM',\n",
       " 'updatedRange': \"'bse500'!AP2:AP501\",\n",
       " 'updatedRows': 500,\n",
       " 'updatedColumns': 1,\n",
       " 'updatedCells': 500}"
      ]
     },
     "execution_count": 16,
     "metadata": {},
     "output_type": "execute_result"
    }
   ],
   "source": [
    "#Creating Delta column in BSE sheet\n",
    "fi.add_cols(1)\n",
    "cell_list=fi.range('AP2:AP501')\n",
    "for i,val in enumerate(cell_list):\n",
    "    val=((stocks.iloc[i]['52 Week High']-stocks.iloc[i]['Price'])/(stocks.iloc[i]['52 Week High']))\n",
    "    cell_list[i].value=val\n",
    "fi.update_cells(cell_list)\n",
    "    "
   ]
  },
  {
   "cell_type": "code",
   "execution_count": 72,
   "id": "97115f2e",
   "metadata": {
    "scrolled": true
   },
   "outputs": [],
   "source": [
    "#Stock selection Criteria\n",
    "Criteria={'High Risk Taking':{'Market Cap(Cr)':[stocks['Market Cap(Cr)'].min(),2000],'10-Year Return(%)':[stocks['10-Year Return(%)'].min(),8]},'Risk Taking':{'Market Cap(Cr)':[2000,5000],'10-Year Return(%)':[8,15]},'Moderate Risk Taking':{'Market Cap(Cr)':[5000,15000],'10-Year Return(%)':[15,20]},'Low Risk Taking':{'Market Cap(Cr)':[15000,stocks['Market Cap(Cr)'].max()],'10-Year Return(%)':[20,stocks['10-Year Return(%)'].max()]}}"
   ]
  },
  {
   "cell_type": "code",
   "execution_count": 112,
   "id": "39fd7af9",
   "metadata": {},
   "outputs": [
    {
     "data": {
      "text/plain": [
       "{'spreadsheetId': '1oWn-6TcHJichTXKQHWFuPIayQt6lhxK3NgBNYCZrgLY',\n",
       " 'updatedRange': 'Sheet2!C2:C8',\n",
       " 'updatedRows': 7,\n",
       " 'updatedColumns': 1,\n",
       " 'updatedCells': 7}"
      ]
     },
     "execution_count": 112,
     "metadata": {},
     "output_type": "execute_result"
    }
   ],
   "source": [
    "#selecting stock Based on risk apetite\n",
    "Risk_profile=final.cell(27,3).value\n",
    "for risk,factor in Criteria.items():\n",
    "    try:\n",
    "        if risk==Risk_profile:\n",
    "            new=stocks[stocks['Delta']>0]\n",
    "            for cols,nums in factor.items():\n",
    "                new=new[(new[cols]>=nums[0]) & (new[cols]<nums[1])]\n",
    "        companies=new.sort_values(by='Dividend Per Share',ascending=False)['Company'].iloc[0:7].values\n",
    "    except:\n",
    "        None\n",
    "cell_list2=fill.range('B2:B8')\n",
    "cell_list4=fill.range('C2:C8')\n",
    "Amount_to_be_invested=final.cell(24,3).value\n",
    "for i,val in enumerate(cell_list2):\n",
    "    try:\n",
    "        val=companies[i]\n",
    "        cell_list2[i].value=val\n",
    "    except:\n",
    "        cell_list2[i].value='NA'\n",
    "fill.update_cells(cell_list2)\n",
    "for i,val in enumerate(cell_list4):\n",
    "    try:\n",
    "        if i in range(len(companies)):\n",
    "            cell_list4[i].value=(int(Amount_to_be_invested)/len(companies))\n",
    "        else:\n",
    "            cell_list4[i].value=''\n",
    "            \n",
    "    except:\n",
    "        None\n",
    "        \n",
    "fill.update_cells(cell_list4)"
   ]
  },
  {
   "cell_type": "code",
   "execution_count": 25,
   "id": "f44e308d",
   "metadata": {},
   "outputs": [],
   "source": [
    "import matplotlib.pyplot as plt"
   ]
  },
  {
   "cell_type": "code",
   "execution_count": 48,
   "id": "2b16d660",
   "metadata": {},
   "outputs": [],
   "source": [
    "stocks['Enterprise Value(Cr)']=pd.to_numeric(stocks['Enterprise Value(Cr)'])"
   ]
  },
  {
   "cell_type": "code",
   "execution_count": 49,
   "id": "8ebf97a6",
   "metadata": {},
   "outputs": [
    {
     "data": {
      "image/png": "[encoded data removed]",
      "text/plain": [
       "<Figure size 1080x576 with 1 Axes>"
      ]
     },
     "metadata": {
      "needs_background": "light"
     },
     "output_type": "display_data"
    }
   ],
   "source": [
    "plt.figure(figsize=(15,8))\n",
    "plt.bar(stocks.Sector.unique(),stocks.groupby('Sector')['Enterprise Value(Cr)'].median().values)\n",
    "plt.xticks(rotation=90)\n",
    "plt.show()"
   ]
  },
  {
   "cell_type": "code",
   "execution_count": 404,
   "id": "b1725af6",
   "metadata": {},
   "outputs": [
    {
     "data": {
      "text/plain": [
       "[<matplotlib.lines.Line2D at 0xddf496ac0>]"
      ]
     },
     "execution_count": 404,
     "metadata": {},
     "output_type": "execute_result"
    },
    {
     "data": {
      "image/png": "[encoded data removed]",
      "text/plain": [
       "<Figure size 1080x576 with 1 Axes>"
      ]
     },
     "metadata": {
      "needs_background": "light"
     },
     "output_type": "display_data"
    }
   ],
   "source": [
    "fig=plt.figure(figsize=(15,8))\n",
    "plt.plot(stocks['Dividend Per Share'],stocks['Market Cap(Cr)'])"
   ]
  },
  {
   "cell_type": "code",
   "execution_count": 27,
   "id": "62b46381",
   "metadata": {},
   "outputs": [],
   "source": [
    "stocks['3-Year Return']=pd.to_numeric(stocks['3-Year Return'])"
   ]
  },
  {
   "cell_type": "code",
   "execution_count": 45,
   "id": "ddeb8bf6",
   "metadata": {},
   "outputs": [
    {
     "data": {
      "image/png": "[encoded data removed]",
      "text/plain": [
       "<Figure size 432x288 with 1 Axes>"
      ]
     },
     "metadata": {
      "needs_background": "light"
     },
     "output_type": "display_data"
    }
   ],
   "source": [
    "df2=stocks[stocks['3-Year Return']<0]['Sector'].value_counts()\n",
    "\n",
    "plt.bar(df2.index,df2.values)\n",
    "plt.xticks(rotation=90)\n",
    "plt.show()"
   ]
  },
  {
   "cell_type": "code",
   "execution_count": 44,
   "id": "10522ab4",
   "metadata": {},
   "outputs": [
    {
     "data": {
      "image/png": "[encoded data removed]",
      "text/plain": [
       "<Figure size 432x288 with 1 Axes>"
      ]
     },
     "metadata": {
      "needs_background": "light"
     },
     "output_type": "display_data"
    }
   ],
   "source": [
    "df3=stocks[stocks['3-Year Return']>0]['Sector'].value_counts()\n",
    "\n",
    "plt.bar(df3.index,df3.values)\n",
    "plt.xticks(rotation=90)\n",
    "plt.show()"
   ]
  },
  {
   "cell_type": "code",
   "execution_count": 119,
   "id": "04d227ae",
   "metadata": {},
   "outputs": [],
   "source": [
    "#KPI Calculation\n",
    "stocks['KPI']=0.3*stocks['Median P/E']+0.3*stocks['10-Year Return(%)']+0.23*stocks['5-Year Return(%)']+0.17*stocks['1-Year Return(%)']"
   ]
  }
 ],
 "metadata": {
  "kernelspec": {
   "display_name": "Python 3 (ipykernel)",
   "language": "python",
   "name": "python3"
  },
  "language_info": {
   "codemirror_mode": {
    "name": "ipython",
    "version": 3
   },
   "file_extension": ".py",
   "mimetype": "text/x-python",
   "name": "python",
   "nbconvert_exporter": "python",
   "pygments_lexer": "ipython3",
   "version": "3.9.12"
  }
 },
 "nbformat": 4,
 "nbformat_minor": 5
}
